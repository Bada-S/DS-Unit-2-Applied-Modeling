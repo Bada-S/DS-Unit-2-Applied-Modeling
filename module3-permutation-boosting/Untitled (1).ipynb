{
 "cells": [
  {
   "cell_type": "code",
   "execution_count": 57,
   "metadata": {},
   "outputs": [],
   "source": [
    "import pandas as pd\n",
    "import numpy as np\n",
    "import matplotlib as plt"
   ]
  },
  {
   "cell_type": "code",
   "execution_count": 85,
   "metadata": {},
   "outputs": [
    {
     "name": "stdout",
     "output_type": "stream",
     "text": [
      "Collecting eli5Note: you may need to restart the kernel to use updated packages.\n",
      "  Downloading eli5-0.10.1-py2.py3-none-any.whl (105 kB)\n",
      "Requirement already satisfied: scikit-learn>=0.18 in c:\\users\\james\\miniconda3\\lib\\site-packages (from eli5) (0.23.2)\n",
      "Requirement already satisfied: attrs>16.0.0 in c:\\users\\james\\miniconda3\\lib\\site-packages (from eli5) (20.2.0)\n",
      "Requirement already satisfied: numpy>=1.9.0 in c:\\users\\james\\miniconda3\\lib\\site-packages (from eli5) (1.19.1)\n",
      "Requirement already satisfied: jinja2 in c:\\users\\james\\miniconda3\\lib\\site-packages (from eli5) (2.11.2)\n",
      "Collecting tabulate>=0.7.7\n",
      "  Downloading tabulate-0.8.7-py3-none-any.whl (24 kB)\n",
      "Collecting graphviz\n",
      "  Downloading graphviz-0.14.1-py2.py3-none-any.whl (18 kB)\n",
      "Requirement already satisfied: six in c:\\users\\james\\miniconda3\\lib\\site-packages (from eli5) (1.14.0)\n",
      "Requirement already satisfied: scipy in c:\\users\\james\\miniconda3\\lib\\site-packages (from eli5) (1.5.2)\n",
      "Requirement already satisfied: threadpoolctl>=2.0.0 in c:\\users\\james\\miniconda3\\lib\\site-packages (from scikit-learn>=0.18->eli5) (2.1.0)\n",
      "Requirement already satisfied: joblib>=0.11 in c:\\users\\james\\miniconda3\\lib\\site-packages (from scikit-learn>=0.18->eli5) (0.16.0)\n",
      "Requirement already satisfied: MarkupSafe>=0.23 in c:\\users\\james\\miniconda3\\lib\\site-packages (from jinja2->eli5) (1.1.1)\n",
      "Installing collected packages: tabulate, graphviz, eli5\n",
      "Successfully installed eli5-0.10.1 graphviz-0.14.1 tabulate-0.8.7\n",
      "\n"
     ]
    }
   ],
   "source": [
    "pip install eli5"
   ]
  },
  {
   "cell_type": "code",
   "execution_count": 58,
   "metadata": {},
   "outputs": [],
   "source": [
    "df = pd.read_csv(r'C:\\Users\\james\\AppData\\Local\\Temp\\Temp1_199387_1319582_bundle_archive.zip\\US_Accidents_June20.csv')\n",
    "\n",
    "#Smaller sample\n",
    "df = df.sample(n=100000, random_state=42)"
   ]
  },
  {
   "cell_type": "code",
   "execution_count": 59,
   "metadata": {},
   "outputs": [
    {
     "data": {
      "text/plain": [
       "ID                       100000\n",
       "Source                        3\n",
       "Description               87545\n",
       "Street                    28209\n",
       "Side                          2\n",
       "City                       5743\n",
       "County                     1169\n",
       "State                        48\n",
       "Zipcode                   33202\n",
       "Country                       1\n",
       "Timezone                      4\n",
       "Airport_Code               1531\n",
       "Weather_Timestamp         72356\n",
       "Wind_Direction               24\n",
       "Weather_Condition            77\n",
       "Sunrise_Sunset                2\n",
       "Civil_Twilight                2\n",
       "Nautical_Twilight             2\n",
       "Astronomical_Twilight         2\n",
       "Weekday                       7\n",
       "dtype: int64"
      ]
     },
     "execution_count": 59,
     "metadata": {},
     "output_type": "execute_result"
    }
   ],
   "source": [
    "unique_cats = df.select_dtypes('object').nunique()\n",
    "unique_cats"
   ]
  },
  {
   "cell_type": "code",
   "execution_count": 60,
   "metadata": {},
   "outputs": [
    {
     "data": {
      "text/plain": [
       "['ID',\n",
       " 'Description',\n",
       " 'Street',\n",
       " 'City',\n",
       " 'County',\n",
       " 'Zipcode',\n",
       " 'Airport_Code',\n",
       " 'Weather_Timestamp']"
      ]
     },
     "execution_count": 60,
     "metadata": {},
     "output_type": "execute_result"
    }
   ],
   "source": [
    "#High cardinality categories\n",
    "high_card = [col for col in unique_cats.index if unique_cats[col]>127]\n",
    "high_card"
   ]
  },
  {
   "cell_type": "code",
   "execution_count": 62,
   "metadata": {},
   "outputs": [],
   "source": [
    "def wrangle(X):\n",
    "    X = X.copy()\n",
    "    #Drop high cardinality columns\n",
    "    X.drop(high_card, axis=1, inplace=True)\n",
    "    \n",
    "    #Drop more columns- country and turning loop only have 1 unique value\n",
    "    X.drop(['Turning_Loop', 'Country'], axis=1, inplace=True)\n",
    "    \n",
    "    #Drop columns with high percentage of NaNs\n",
    "    X.drop(['End_Lat', 'End_Lng', 'Number', 'Wind_Chill(F)', 'Precipitation(in)'],axis=1, inplace=True)\n",
    "    \n",
    "    #Putting Times in datetime format\n",
    "    df['Start_Time']= pd.to_datetime(df['Start_Time'])\n",
    "    df['End_Time']= pd.to_datetime(df['End_Time'])\n",
    "    df['year'] = df['Start_Time'].dt.year\n",
    "    df['month'] = df['Start_Time'].dt.month\n",
    "    df['day'] = df['Start_Time'].dt.day\n",
    "    df['hour'] = df['Start_Time'].dt.hour\n",
    "    df['Weekday']=df['Start_Time'].dt.strftime('%a')\n",
    "\n",
    "    df['traffic_disruption(min)'] = round((df['End_Time'] - df['Start_Time'])/np.timedelta64(1,'m'))\n",
    "    df.drop(['Start_Time', 'End_Time'], axis=1, inplace=True)\n",
    "\n",
    "    td = 'traffic_disruption(min)'\n",
    "    \n",
    "    #Set negative time values to NaN\n",
    "    X[X[td] <= 0] = np.nan\n",
    "    X.dropna(subset=[td], axis=0, inplace=True)\n",
    "\n",
    "    #Outliers\n",
    "    #median = X[td].median()\n",
    "    #three_std = X[td].std() * 3\n",
    "   # outliers = (X[td] - median).abs() > three_std\n",
    "\n",
    "    # Set outliers to NAN\n",
    "    #X[outliers] = np.nan\n",
    "\n",
    "    # Fill NAN with median\n",
    "    #X[td].fillna(median, inplace=True)\n",
    "    \n",
    "    \n",
    "    return X"
   ]
  },
  {
   "cell_type": "code",
   "execution_count": 63,
   "metadata": {},
   "outputs": [],
   "source": [
    "df = wrangle(df)"
   ]
  },
  {
   "cell_type": "code",
   "execution_count": 64,
   "metadata": {},
   "outputs": [
    {
     "data": {
      "text/plain": [
       "Source                         0\n",
       "TMC                        29479\n",
       "Severity                       0\n",
       "Start_Lat                      0\n",
       "Start_Lng                      0\n",
       "Distance(mi)                   0\n",
       "Side                           0\n",
       "State                          0\n",
       "Timezone                     113\n",
       "Temperature(F)              1884\n",
       "Humidity(%)                 2009\n",
       "Pressure(in)                1614\n",
       "Visibility(mi)              2217\n",
       "Wind_Direction              1710\n",
       "Wind_Speed(mph)            12947\n",
       "Weather_Condition           2206\n",
       "Amenity                        0\n",
       "Bump                           0\n",
       "Crossing                       0\n",
       "Give_Way                       0\n",
       "Junction                       0\n",
       "No_Exit                        0\n",
       "Railway                        0\n",
       "Roundabout                     0\n",
       "Station                        0\n",
       "Stop                           0\n",
       "Traffic_Calming                0\n",
       "Traffic_Signal                 0\n",
       "Sunrise_Sunset                 5\n",
       "Civil_Twilight                 5\n",
       "Nautical_Twilight              5\n",
       "Astronomical_Twilight          5\n",
       "year                           0\n",
       "month                          0\n",
       "day                            0\n",
       "hour                           0\n",
       "Weekday                        0\n",
       "traffic_disruption(min)        0\n",
       "dtype: int64"
      ]
     },
     "execution_count": 64,
     "metadata": {},
     "output_type": "execute_result"
    }
   ],
   "source": [
    "df.isnull().sum()"
   ]
  },
  {
   "cell_type": "code",
   "execution_count": 65,
   "metadata": {},
   "outputs": [
    {
     "data": {
      "text/plain": [
       "<AxesSubplot:ylabel='Frequency'>"
      ]
     },
     "execution_count": 65,
     "metadata": {},
     "output_type": "execute_result"
    },
    {
     "data": {
      "image/png": "[encoded data removed]",
      "text/plain": [
       "<Figure size 432x288 with 1 Axes>"
      ]
     },
     "metadata": {
      "needs_background": "light"
     },
     "output_type": "display_data"
    }
   ],
   "source": [
    "df['traffic_disruption(min)'].plot(kind='hist')"
   ]
  },
  {
   "cell_type": "code",
   "execution_count": 66,
   "metadata": {},
   "outputs": [],
   "source": [
    "target = 'Severity'\n",
    "\n",
    "y = df[target]\n",
    "X = df.drop(target, axis=1)"
   ]
  },
  {
   "cell_type": "code",
   "execution_count": 67,
   "metadata": {},
   "outputs": [
    {
     "data": {
      "text/plain": [
       "2.0    0.675457\n",
       "3.0    0.283663\n",
       "4.0    0.032170\n",
       "1.0    0.008710\n",
       "Name: Severity, dtype: float64"
      ]
     },
     "execution_count": 67,
     "metadata": {},
     "output_type": "execute_result"
    }
   ],
   "source": [
    "y.value_counts(normalize=True)"
   ]
  },
  {
   "cell_type": "code",
   "execution_count": 68,
   "metadata": {},
   "outputs": [
    {
     "name": "stdout",
     "output_type": "stream",
     "text": [
      "Baseline accuracy: 0.6754567545675457\n"
     ]
    }
   ],
   "source": [
    "#Baseline accuracy\n",
    "baseline_acc = y.value_counts(normalize=True).max()\n",
    "print('Baseline accuracy:',baseline_acc)"
   ]
  },
  {
   "cell_type": "code",
   "execution_count": 69,
   "metadata": {},
   "outputs": [],
   "source": [
    "from sklearn.model_selection import train_test_split\n",
    "train, val = train_test_split(df, test_size=.2, random_state=42)\n",
    "X_train, y_train = train.drop(target, axis=1), train[target]\n",
    "X_val, y_val = val.drop(target, axis=1), val[target]"
   ]
  },
  {
   "cell_type": "code",
   "execution_count": 70,
   "metadata": {},
   "outputs": [
    {
     "name": "stdout",
     "output_type": "stream",
     "text": [
      "(79999, 38) (20000, 38) (99999, 38)\n"
     ]
    }
   ],
   "source": [
    "print(train.shape, val.shape, df.shape)"
   ]
  },
  {
   "cell_type": "markdown",
   "metadata": {},
   "source": [
    "# Logistic Regression"
   ]
  },
  {
   "cell_type": "code",
   "execution_count": 71,
   "metadata": {},
   "outputs": [],
   "source": [
    "from sklearn.impute import SimpleImputer\n",
    "from category_encoders import OrdinalEncoder\n",
    "from sklearn.linear_model import LogisticRegression\n",
    "from sklearn.tree import DecisionTreeClassifier\n",
    "from sklearn.ensemble import GradientBoostingClassifier, RandomForestClassifier\n",
    "from sklearn.pipeline import make_pipeline\n",
    "from sklearn.feature_selection import SelectKBest\n",
    "from xgboost import XGBClassifier"
   ]
  },
  {
   "cell_type": "code",
   "execution_count": 72,
   "metadata": {},
   "outputs": [
    {
     "data": {
      "text/plain": [
       "Pipeline(steps=[('ordinalencoder',\n",
       "                 OrdinalEncoder(cols=['Source', 'Side', 'State', 'Timezone',\n",
       "                                      'Wind_Direction', 'Weather_Condition',\n",
       "                                      'Sunrise_Sunset', 'Civil_Twilight',\n",
       "                                      'Nautical_Twilight',\n",
       "                                      'Astronomical_Twilight', 'Weekday'],\n",
       "                                mapping=[{'col': 'Source',\n",
       "                                          'data_type': dtype('O'),\n",
       "                                          'mapping': Bing             1\n",
       "MapQuest         2\n",
       "MapQuest-Bing    3\n",
       "NaN             -2\n",
       "dtype: int64},\n",
       "                                         {'col': 'Side',\n",
       "                                          'data_type': dtyp...\n",
       "                                          'data_type': dtype('O'),\n",
       "                                          'mapping': Day      1\n",
       "Night    2\n",
       "NaN      3\n",
       "dtype: int64},\n",
       "                                         {'col': 'Astronomical_Twilight',\n",
       "                                          'data_type': dtype('O'),\n",
       "                                          'mapping': Day      1\n",
       "Night    2\n",
       "NaN      3\n",
       "dtype: int64},\n",
       "                                         {'col': 'Weekday',\n",
       "                                          'data_type': dtype('O'),\n",
       "                                          'mapping': Tue    1\n",
       "Sun    2\n",
       "Thu    3\n",
       "Wed    4\n",
       "Mon    5\n",
       "Fri    6\n",
       "Sat    7\n",
       "NaN   -2\n",
       "dtype: int64}])),\n",
       "                ('simpleimputer', SimpleImputer(strategy='most_frequent')),\n",
       "                ('logisticregression', LogisticRegression(n_jobs=-1))])"
      ]
     },
     "execution_count": 72,
     "metadata": {},
     "output_type": "execute_result"
    }
   ],
   "source": [
    "model = make_pipeline(\n",
    "        OrdinalEncoder(),\n",
    "        SimpleImputer(strategy='most_frequent'),\n",
    "        LogisticRegression(n_jobs=-1)\n",
    ")\n",
    "model.fit(X_train,y_train)"
   ]
  },
  {
   "cell_type": "code",
   "execution_count": 73,
   "metadata": {},
   "outputs": [
    {
     "name": "stdout",
     "output_type": "stream",
     "text": [
      "Training accuracy: 0.6850210627632846\n",
      "Validation accuracy: 0.68235\n"
     ]
    }
   ],
   "source": [
    "print(\"Training accuracy:\", model.score(X_train,y_train))\n",
    "print(\"Validation accuracy:\", model.score(X_val,y_val))"
   ]
  },
  {
   "cell_type": "code",
   "execution_count": 74,
   "metadata": {},
   "outputs": [
    {
     "data": {
      "text/plain": [
       "Text(0.5, 1.0, 'Confusion Matrix: Logistic regression model')"
      ]
     },
     "execution_count": 74,
     "metadata": {},
     "output_type": "execute_result"
    },
    {
     "data": {
      "image/png": "[encoded data removed]",
      "text/plain": [
       "<Figure size 576x576 with 2 Axes>"
      ]
     },
     "metadata": {
      "needs_background": "light"
     },
     "output_type": "display_data"
    }
   ],
   "source": [
    "from sklearn.metrics import plot_confusion_matrix\n",
    "import matplotlib.pyplot as plt\n",
    "\n",
    "fig, ax = plt.subplots(1,1,figsize=(8,8))\n",
    "\n",
    "plot_confusion_matrix(model, X_val, y_val, cmap=plt.cm.Blues, ax=ax)\n",
    "ax.set_title('Confusion Matrix: Logistic regression model')"
   ]
  },
  {
   "cell_type": "markdown",
   "metadata": {},
   "source": [
    "# Decision Tree Model"
   ]
  },
  {
   "cell_type": "code",
   "execution_count": 75,
   "metadata": {},
   "outputs": [
    {
     "data": {
      "text/plain": [
       "Pipeline(steps=[('ordinalencoder',\n",
       "                 OrdinalEncoder(cols=['Source', 'Side', 'State', 'Timezone',\n",
       "                                      'Wind_Direction', 'Weather_Condition',\n",
       "                                      'Sunrise_Sunset', 'Civil_Twilight',\n",
       "                                      'Nautical_Twilight',\n",
       "                                      'Astronomical_Twilight', 'Weekday'],\n",
       "                                mapping=[{'col': 'Source',\n",
       "                                          'data_type': dtype('O'),\n",
       "                                          'mapping': Bing             1\n",
       "MapQuest         2\n",
       "MapQuest-Bing    3\n",
       "NaN             -2\n",
       "dtype: int64},\n",
       "                                         {'col': 'Side',\n",
       "                                          'data_type': dtyp...\n",
       "                                          'data_type': dtype('O'),\n",
       "                                          'mapping': Day      1\n",
       "Night    2\n",
       "NaN      3\n",
       "dtype: int64},\n",
       "                                         {'col': 'Astronomical_Twilight',\n",
       "                                          'data_type': dtype('O'),\n",
       "                                          'mapping': Day      1\n",
       "Night    2\n",
       "NaN      3\n",
       "dtype: int64},\n",
       "                                         {'col': 'Weekday',\n",
       "                                          'data_type': dtype('O'),\n",
       "                                          'mapping': Tue    1\n",
       "Sun    2\n",
       "Thu    3\n",
       "Wed    4\n",
       "Mon    5\n",
       "Fri    6\n",
       "Sat    7\n",
       "NaN   -2\n",
       "dtype: int64}])),\n",
       "                ('simpleimputer', SimpleImputer(strategy='median')),\n",
       "                ('decisiontreeclassifier', DecisionTreeClassifier())])"
      ]
     },
     "execution_count": 75,
     "metadata": {},
     "output_type": "execute_result"
    }
   ],
   "source": [
    "model_dt = make_pipeline(       \n",
    "        OrdinalEncoder(),\n",
    "        SimpleImputer(strategy='median'),\n",
    "        DecisionTreeClassifier()\n",
    ")\n",
    "model_dt.fit(X_train,y_train)"
   ]
  },
  {
   "cell_type": "code",
   "execution_count": 76,
   "metadata": {},
   "outputs": [
    {
     "name": "stdout",
     "output_type": "stream",
     "text": [
      "Training accuracy: 1.0\n",
      "Validation accuracy: 0.72025\n"
     ]
    }
   ],
   "source": [
    "print(\"Training accuracy:\", model_dt.score(X_train,y_train))\n",
    "print(\"Validation accuracy:\", model_dt.score(X_val,y_val))"
   ]
  },
  {
   "cell_type": "code",
   "execution_count": 77,
   "metadata": {},
   "outputs": [
    {
     "data": {
      "text/plain": [
       "Text(0.5, 1.0, 'Confusion Matrix: Logistic regression model')"
      ]
     },
     "execution_count": 77,
     "metadata": {},
     "output_type": "execute_result"
    },
    {
     "data": {
      "image/png": "[encoded data removed]",
      "text/plain": [
       "<Figure size 576x576 with 2 Axes>"
      ]
     },
     "metadata": {
      "needs_background": "light"
     },
     "output_type": "display_data"
    }
   ],
   "source": [
    "fig, ax = plt.subplots(1,1,figsize=(8,8))\n",
    "\n",
    "plot_confusion_matrix(model_dt, X_val, y_val, cmap=plt.cm.Blues, ax=ax)\n",
    "ax.set_title('Confusion Matrix: Logistic regression model')"
   ]
  },
  {
   "cell_type": "markdown",
   "metadata": {},
   "source": [
    "# Random Forest Model"
   ]
  },
  {
   "cell_type": "code",
   "execution_count": 78,
   "metadata": {},
   "outputs": [
    {
     "data": {
      "text/plain": [
       "Pipeline(steps=[('ordinalencoder',\n",
       "                 OrdinalEncoder(cols=['Source', 'Side', 'State', 'Timezone',\n",
       "                                      'Wind_Direction', 'Weather_Condition',\n",
       "                                      'Sunrise_Sunset', 'Civil_Twilight',\n",
       "                                      'Nautical_Twilight',\n",
       "                                      'Astronomical_Twilight', 'Weekday'],\n",
       "                                mapping=[{'col': 'Source',\n",
       "                                          'data_type': dtype('O'),\n",
       "                                          'mapping': Bing             1\n",
       "MapQuest         2\n",
       "MapQuest-Bing    3\n",
       "NaN             -2\n",
       "dtype: int64},\n",
       "                                         {'col': 'Side',\n",
       "                                          'data_type': dtyp...\n",
       "                                          'data_type': dtype('O'),\n",
       "                                          'mapping': Day      1\n",
       "Night    2\n",
       "NaN      3\n",
       "dtype: int64},\n",
       "                                         {'col': 'Astronomical_Twilight',\n",
       "                                          'data_type': dtype('O'),\n",
       "                                          'mapping': Day      1\n",
       "Night    2\n",
       "NaN      3\n",
       "dtype: int64},\n",
       "                                         {'col': 'Weekday',\n",
       "                                          'data_type': dtype('O'),\n",
       "                                          'mapping': Tue    1\n",
       "Sun    2\n",
       "Thu    3\n",
       "Wed    4\n",
       "Mon    5\n",
       "Fri    6\n",
       "Sat    7\n",
       "NaN   -2\n",
       "dtype: int64}])),\n",
       "                ('simpleimputer', SimpleImputer(strategy='median')),\n",
       "                ('randomforestclassifier', RandomForestClassifier())])"
      ]
     },
     "execution_count": 78,
     "metadata": {},
     "output_type": "execute_result"
    }
   ],
   "source": [
    "model_rf = make_pipeline(\n",
    "        OrdinalEncoder(),\n",
    "        SimpleImputer(strategy='median'),\n",
    "        RandomForestClassifier()\n",
    ")\n",
    "model_rf.fit(X_train, y_train)"
   ]
  },
  {
   "cell_type": "code",
   "execution_count": 79,
   "metadata": {},
   "outputs": [
    {
     "name": "stdout",
     "output_type": "stream",
     "text": [
      "Training accuracy: 1.0\n",
      "Validation accuracy: 0.78195\n"
     ]
    }
   ],
   "source": [
    "print(\"Training accuracy:\", model_rf.score(X_train,y_train))\n",
    "print(\"Validation accuracy:\", model_rf.score(X_val,y_val))"
   ]
  },
  {
   "cell_type": "code",
   "execution_count": 80,
   "metadata": {
    "scrolled": false
   },
   "outputs": [
    {
     "data": {
      "text/plain": [
       "Text(0.5, 1.0, 'Confusion Matrix: Logistic regression model')"
      ]
     },
     "execution_count": 80,
     "metadata": {},
     "output_type": "execute_result"
    },
    {
     "data": {
      "image/png": "[encoded data removed]",
      "text/plain": [
       "<Figure size 576x576 with 2 Axes>"
      ]
     },
     "metadata": {
      "needs_background": "light"
     },
     "output_type": "display_data"
    }
   ],
   "source": [
    "fig, ax = plt.subplots(1,1,figsize=(8,8))\n",
    "\n",
    "plot_confusion_matrix(model_rf, X_val, y_val, cmap=plt.cm.Blues, ax=ax)\n",
    "ax.set_title('Confusion Matrix: Logistic regression model')"
   ]
  },
  {
   "cell_type": "markdown",
   "metadata": {},
   "source": [
    "# XGBClassifier Model"
   ]
  },
  {
   "cell_type": "code",
   "execution_count": 81,
   "metadata": {},
   "outputs": [
    {
     "data": {
      "text/plain": [
       "Pipeline(steps=[('ordinalencoder',\n",
       "                 OrdinalEncoder(cols=['Source', 'Side', 'State', 'Timezone',\n",
       "                                      'Wind_Direction', 'Weather_Condition',\n",
       "                                      'Sunrise_Sunset', 'Civil_Twilight',\n",
       "                                      'Nautical_Twilight',\n",
       "                                      'Astronomical_Twilight', 'Weekday'],\n",
       "                                mapping=[{'col': 'Source',\n",
       "                                          'data_type': dtype('O'),\n",
       "                                          'mapping': Bing             1\n",
       "MapQuest         2\n",
       "MapQuest-Bing    3\n",
       "NaN             -2\n",
       "dtype: int64},\n",
       "                                         {'col': 'Side',\n",
       "                                          'data_type': dtyp...\n",
       "                               importance_type='gain',\n",
       "                               interaction_constraints='',\n",
       "                               learning_rate=0.300000012, max_delta_step=0,\n",
       "                               max_depth=6, min_child_weight=1, missing=nan,\n",
       "                               monotone_constraints='()', n_estimators=100,\n",
       "                               n_jobs=0, num_parallel_tree=1,\n",
       "                               objective='multi:softprob', random_state=0,\n",
       "                               reg_alpha=0, reg_lambda=1, scale_pos_weight=None,\n",
       "                               subsample=1, tree_method='exact',\n",
       "                               validate_parameters=1, verbosity=None))])"
      ]
     },
     "execution_count": 81,
     "metadata": {},
     "output_type": "execute_result"
    }
   ],
   "source": [
    "model_xgb = make_pipeline(\n",
    "        OrdinalEncoder(),\n",
    "        SimpleImputer(strategy='median'),\n",
    "        XGBClassifier()\n",
    ")\n",
    "model_xgb.fit(X_train,y_train)"
   ]
  },
  {
   "cell_type": "code",
   "execution_count": 82,
   "metadata": {},
   "outputs": [
    {
     "name": "stdout",
     "output_type": "stream",
     "text": [
      "Training accuracy: 0.8560357004462555\n",
      "Validation accuracy: 0.80345\n"
     ]
    }
   ],
   "source": [
    "print(\"Training accuracy:\", model_xgb.score(X_train,y_train))\n",
    "print(\"Validation accuracy:\", model_xgb.score(X_val,y_val))"
   ]
  },
  {
   "cell_type": "code",
   "execution_count": 83,
   "metadata": {},
   "outputs": [
    {
     "data": {
      "text/plain": [
       "Text(0.5, 1.0, 'Confusion Matrix: Logistic regression model')"
      ]
     },
     "execution_count": 83,
     "metadata": {},
     "output_type": "execute_result"
    },
    {
     "data": {
      "image/png": "[encoded data removed]",
      "text/plain": [
       "<Figure size 576x576 with 2 Axes>"
      ]
     },
     "metadata": {
      "needs_background": "light"
     },
     "output_type": "display_data"
    }
   ],
   "source": [
    "fig, ax = plt.subplots(1,1,figsize=(8,8))\n",
    "\n",
    "plot_confusion_matrix(model_xgb, X_val, y_val, cmap=plt.cm.Blues, ax=ax)\n",
    "ax.set_title('Confusion Matrix: Logistic regression model')"
   ]
  },
  {
   "cell_type": "markdown",
   "metadata": {},
   "source": [
    "# Feature Selection"
   ]
  },
  {
   "cell_type": "code",
   "execution_count": 84,
   "metadata": {},
   "outputs": [
    {
     "name": "stdout",
     "output_type": "stream",
     "text": [
      "<class 'pandas.core.frame.DataFrame'>\n",
      "Int64Index: 99999 entries, 3173614 to 539090\n",
      "Data columns (total 38 columns):\n",
      " #   Column                   Non-Null Count  Dtype  \n",
      "---  ------                   --------------  -----  \n",
      " 0   Source                   99999 non-null  object \n",
      " 1   TMC                      70520 non-null  float64\n",
      " 2   Severity                 99999 non-null  float64\n",
      " 3   Start_Lat                99999 non-null  float64\n",
      " 4   Start_Lng                99999 non-null  float64\n",
      " 5   Distance(mi)             99999 non-null  float64\n",
      " 6   Side                     99999 non-null  object \n",
      " 7   State                    99999 non-null  object \n",
      " 8   Timezone                 99886 non-null  object \n",
      " 9   Temperature(F)           98115 non-null  float64\n",
      " 10  Humidity(%)              97990 non-null  float64\n",
      " 11  Pressure(in)             98385 non-null  float64\n",
      " 12  Visibility(mi)           97782 non-null  float64\n",
      " 13  Wind_Direction           98289 non-null  object \n",
      " 14  Wind_Speed(mph)          87052 non-null  float64\n",
      " 15  Weather_Condition        97793 non-null  object \n",
      " 16  Amenity                  99999 non-null  float64\n",
      " 17  Bump                     99999 non-null  float64\n",
      " 18  Crossing                 99999 non-null  float64\n",
      " 19  Give_Way                 99999 non-null  float64\n",
      " 20  Junction                 99999 non-null  float64\n",
      " 21  No_Exit                  99999 non-null  float64\n",
      " 22  Railway                  99999 non-null  float64\n",
      " 23  Roundabout               99999 non-null  float64\n",
      " 24  Station                  99999 non-null  float64\n",
      " 25  Stop                     99999 non-null  float64\n",
      " 26  Traffic_Calming          99999 non-null  float64\n",
      " 27  Traffic_Signal           99999 non-null  float64\n",
      " 28  Sunrise_Sunset           99994 non-null  object \n",
      " 29  Civil_Twilight           99994 non-null  object \n",
      " 30  Nautical_Twilight        99994 non-null  object \n",
      " 31  Astronomical_Twilight    99994 non-null  object \n",
      " 32  year                     99999 non-null  float64\n",
      " 33  month                    99999 non-null  float64\n",
      " 34  day                      99999 non-null  float64\n",
      " 35  hour                     99999 non-null  float64\n",
      " 36  Weekday                  99999 non-null  object \n",
      " 37  traffic_disruption(min)  99999 non-null  float64\n",
      "dtypes: float64(27), object(11)\n",
      "memory usage: 29.8+ MB\n"
     ]
    }
   ],
   "source": [
    "df.info()"
   ]
  },
  {
   "cell_type": "code",
   "execution_count": null,
   "metadata": {},
   "outputs": [],
   "source": [
    "from sklearn.compose import ColumnTransformer\n",
    "from sklearn.preprocessing import StandardScaler\n",
    "\n",
    "numeric_features = ['TMC', ]"
   ]
  },
  {
   "cell_type": "markdown",
   "metadata": {},
   "source": [
    "# Tune Model"
   ]
  },
  {
   "cell_type": "code",
   "execution_count": null,
   "metadata": {},
   "outputs": [],
   "source": [
    "#feature_imp = model.named_steps['logisticregression'].feature_importances_\n",
    "#features= X_train.columns"
   ]
  },
  {
   "cell_type": "code",
   "execution_count": null,
   "metadata": {},
   "outputs": [],
   "source": [
    "pd.series(feature_imp, features).sort_values(ascending=False).head(5).plot(kind='barh')"
   ]
  }
 ],
 "metadata": {
  "kernelspec": {
   "display_name": "Python 3",
   "language": "python",
   "name": "python3"
  },
  "language_info": {
   "codemirror_mode": {
    "name": "ipython",
    "version": 3
   },
   "file_extension": ".py",
   "mimetype": "text/x-python",
   "name": "python",
   "nbconvert_exporter": "python",
   "pygments_lexer": "ipython3",
   "version": "3.8.3"
  }
 },
 "nbformat": 4,
 "nbformat_minor": 4
}
